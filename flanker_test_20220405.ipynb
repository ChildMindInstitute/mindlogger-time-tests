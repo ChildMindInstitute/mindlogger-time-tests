{
 "cells": [
  {
   "cell_type": "markdown",
   "id": "b01c811b",
   "metadata": {},
   "source": [
    "# Flanker task timing test plots"
   ]
  },
  {
   "cell_type": "markdown",
   "id": "4c7413c4",
   "metadata": {},
   "source": [
    "## Load Test 1 data"
   ]
  },
  {
   "cell_type": "code",
   "execution_count": 1,
   "id": "9b4e7260",
   "metadata": {},
   "outputs": [],
   "source": [
    "import pandas as pd\n",
    "import numpy as np\n",
    "from matplotlib import pyplot as plt\n",
    "plt.rcParams[\"figure.figsize\"] = [7.00, 3.50]\n",
    "plt.rcParams[\"figure.autolayout\"] = True\n",
    "\n",
    "# MindLogger exported Flanker csv table with test data:\n",
    "base_dir = '/Users/arno/Software/mindlogger-time-tests/'\n",
    "csv_file = base_dir + 'input/flanker_test_20220405/624789f25197b9338bdb113c_test1.csv'\n",
    "columns = ['block_number','trial_number','trial_type','event_type','experiment_start_timestamp',\n",
    "           'block_start_timestamp','trial_start_timestamp','event_start_timestamp',\n",
    "           'video_display_request_timestamp','response_touch_timestamp','trial_offset','event_offset',\n",
    "           'response_time','response','response_accuracy']\n",
    "df = pd.read_csv(csv_file, usecols=columns)\n",
    "pd.set_option('display.float_format', lambda x: '%.3f' % x)\n",
    "\n",
    "# Movie of the Flanker task test 1 block of trials:\n",
    "# Convert movie and add frame numbers:\n",
    "## ffmpeg -i /Users/arno.klein/Downloads/flanker_test_20220405.MOV -vf \"drawtext=fontfile=Arial.ttf: text='%{frame_num}': fontsize=200: start_number=1: x=(w-tw)/2: y=h-(2*lh): fontcolor=black: fontsize=20: box=1: boxcolor=white: boxborderw=5\" -c:a copy /Users/arno/Downloads/flanker_test_frames.mp4fps = 240.\n",
    "fps = 240\n",
    "ms_per_frame = 1000/240\n",
    "\n",
    "# Excel table with test data frame numbers:\n",
    "csv_file2 = base_dir + 'input/flanker_test_20220405/624789f25197b9338bdb113c_test1_frames.csv'\n",
    "df2 = pd.read_csv(csv_file2, usecols=['frame'])\n",
    "frames = df2.frame\n",
    "frame_times = np.array([x * 1000 / fps for x in frames])\n",
    "imax = len(frames)"
   ]
  },
  {
   "cell_type": "markdown",
   "id": "3425c025",
   "metadata": {},
   "source": [
    "## Touch to fixation\n",
    "\n",
    "  - Define touch to fixation in the movie as the time between contact with the screen and first appearance of the fixation.\n",
    "  - Define touch to fixation in the data export as the time between recorded response_touch_timestamp and recorded event_start_timestamp representing the next fixation event. \n",
    "  - Ignore the first fixation since it has a delayed presentation."
   ]
  },
  {
   "cell_type": "code",
   "execution_count": 2,
   "id": "cc1fe764",
   "metadata": {},
   "outputs": [
    {
     "data": {
      "image/png": "[encoded data removed]",
      "text/plain": [
       "<Figure size 504x252 with 1 Axes>"
      ]
     },
     "metadata": {
      "needs_background": "light"
     },
     "output_type": "display_data"
    },
    {
     "name": "stdout",
     "output_type": "stream",
     "text": [
      "Touch to fixation time:\n",
      "Movie mean (SD): 62.93 (5.17) +- 8.33 ms (2 frames)\n",
      "Data mean (SD): 2.11 (1.09) ms\n",
      "Error (movie - data) mean (SD): 60.84 (5.27)\n"
     ]
    }
   ],
   "source": [
    "touch_to_fixation_movie = pd.Series(np.zeros(len(frames)))\n",
    "fixation_to_stimulus_movie = pd.Series(np.zeros(len(frames)))\n",
    "i = 0\n",
    "for frame in frames:\n",
    "    i = i + 1\n",
    "    if i > 1:\n",
    "        if i % 3 == 1:\n",
    "            touch_to_fixation_movie[i-1] = (frame - frames[i-2]) * 1000 / fps\n",
    "        else:\n",
    "            touch_to_fixation_movie[i-1] = np.nan\n",
    "        if i % 3 == 2:\n",
    "            fixation_to_stimulus_movie[i-1] = (frame - frames[i-2]) * 1000 / fps\n",
    "        else:\n",
    "            fixation_to_stimulus_movie[i-1] = np.nan\n",
    "            \n",
    "touch_to_fixation = pd.Series(np.zeros(len(frames)))\n",
    "i = 0\n",
    "for frame in frames:\n",
    "    i = i + 1\n",
    "    if i > 1:\n",
    "        if i % 3 == 1:\n",
    "            touch_to_fixation[i-1] = float(df.event_start_timestamp[i-1]) - float(df.response_touch_timestamp[i-2])\n",
    "        else:\n",
    "            touch_to_fixation[i-1] = np.nan\n",
    "\n",
    "touch_to_fixation_error = touch_to_fixation_movie - touch_to_fixation\n",
    "\n",
    "imin = 1\n",
    "\n",
    "plt.plot(frame_times[imin:imax], touch_to_fixation_movie[imin:imax], marker='s', linestyle='', color='k', label='Movie')\n",
    "plt.plot(frame_times[imin:imax], touch_to_fixation_error[imin:imax], marker='*', linestyle='', color='r', label='Error')\n",
    "plt.plot(frame_times[imin:imax], touch_to_fixation[imin:imax], marker='o', linestyle='', color='b', label='Data')\n",
    "plt.title('Touch to fixation timing')\n",
    "plt.xlabel ('Movie time (ms)')\n",
    "plt.ylabel ('Time difference (ms)')\n",
    "plt.legend()\n",
    "plt.grid()\n",
    "plt.show()\n",
    "\n",
    "print(\"Touch to fixation time:\")\n",
    "print(\"Movie mean (SD): {0:.2f} ({1:.2f}) +- {2:.2f} ms (2 frames)\".format(np.mean(touch_to_fixation_movie[imin:imax]),\n",
    "                                                                           np.std(touch_to_fixation_movie[imin:imax]),\n",
    "                                                                           2 * ms_per_frame))\n",
    "print(\"Data mean (SD): {0:.2f} ({1:.2f}) ms\".format(np.mean(touch_to_fixation[imin:imax]), \n",
    "                                                           np.std(touch_to_fixation[imin:imax])))\n",
    "print(\"Error (movie - data) mean (SD): {0:.2f} ({1:.2f})\".format(np.mean(touch_to_fixation_error[imin:imax]), \n",
    "                                                                   np.std(touch_to_fixation_error[imin:imax])))\n"
   ]
  },
  {
   "cell_type": "markdown",
   "id": "08cf2ffa",
   "metadata": {},
   "source": [
    "## Fixation to stimulus\n",
    "\n",
    "  - Define fixation to stimulus in the movie as the time between the first appearance of the fixation and the first presentation of the stimulus.\n",
    "  - Define fixation to stimulus in the data export as the time between recorded trial_start_timestamp (fixation presentation) and recorded event_start_timestamp representing the next stimulus event. \n",
    "  - Ignore the first fixation since it has a delayed presentation."
   ]
  },
  {
   "cell_type": "code",
   "execution_count": 3,
   "id": "1f92f4c5",
   "metadata": {},
   "outputs": [
    {
     "data": {
      "image/png": "[encoded data removed]",
      "text/plain": [
       "<Figure size 504x252 with 1 Axes>"
      ]
     },
     "metadata": {
      "needs_background": "light"
     },
     "output_type": "display_data"
    },
    {
     "name": "stdout",
     "output_type": "stream",
     "text": [
      "Fixation to stimulus time:\n",
      "Movie mean (SD): 527.73 (6.86) +- 8.33 ms (2 frames)\n",
      "Data mean (SD): 514.75 (2.91) ms\n",
      "Error (movie - data) mean (SD): 12.59 (6.16)\n"
     ]
    }
   ],
   "source": [
    "fixation_to_stimulus = pd.Series(np.zeros(len(frames)))\n",
    "\n",
    "i = 0\n",
    "for frame in frames:\n",
    "    i = i + 1\n",
    "    if i > 1:\n",
    "        if i % 3 == 2:\n",
    "            fixation_to_stimulus[i-1] = float(df.event_start_timestamp[i-1]) - float(df.trial_start_timestamp[i-2])\n",
    "        else:\n",
    "            fixation_to_stimulus[i-1] = np.nan\n",
    "\n",
    "fixation_to_stimulus_error = fixation_to_stimulus_movie - fixation_to_stimulus\n",
    "\n",
    "imin = 2\n",
    "\n",
    "plt.plot(frame_times[imin:imax], fixation_to_stimulus_movie[imin:imax], marker='s', linestyle='', color='k', label='Movie')\n",
    "plt.plot(frame_times[imin:imax], fixation_to_stimulus[imin:imax], marker='o', linestyle='', color='b', label='Data')\n",
    "plt.plot(frame_times[imin:imax], fixation_to_stimulus_error[imin:imax], marker='*', linestyle='', color='r', label='Error')\n",
    "plt.title('Fixation to stimulus timing')\n",
    "plt.xlabel ('Movie time (ms)')\n",
    "plt.ylabel ('Time difference (ms)')\n",
    "plt.legend()\n",
    "plt.grid()\n",
    "plt.show()\n",
    "\n",
    "print(\"Fixation to stimulus time:\")\n",
    "print(\"Movie mean (SD): {0:.2f} ({1:.2f}) +- {2:.2f} ms (2 frames)\".format(np.mean(fixation_to_stimulus_movie[imin:imax]),\n",
    "                                                                           np.std(fixation_to_stimulus_movie[imin:imax]),\n",
    "                                                                           2 * ms_per_frame))\n",
    "print(\"Data mean (SD): {0:.2f} ({1:.2f}) ms\".format(np.mean(fixation_to_stimulus[imin:imax]), \n",
    "                                                           np.std(fixation_to_stimulus[imin:imax])))\n",
    "print(\"Error (movie - data) mean (SD): {0:.2f} ({1:.2f})\".format(np.mean(fixation_to_stimulus_error[imin:imax]), \n",
    "                                                                   np.std(fixation_to_stimulus_error[imin:imax])))\n",
    "\n"
   ]
  },
  {
   "cell_type": "markdown",
   "id": "f3440d22",
   "metadata": {},
   "source": [
    "## Delays over time?\n",
    "\n",
    "  - Check to see if fixation, stimulus, and touch times recorded by MindLogger are linear"
   ]
  },
  {
   "cell_type": "code",
   "execution_count": 33,
   "id": "bae9c137",
   "metadata": {},
   "outputs": [
    {
     "data": {
      "image/png": "[encoded data removed]",
      "text/plain": [
       "<Figure size 504x252 with 1 Axes>"
      ]
     },
     "metadata": {
      "needs_background": "light"
     },
     "output_type": "display_data"
    }
   ],
   "source": [
    "fixations = []\n",
    "stimuli = []\n",
    "touches = []\n",
    "i = 0\n",
    "for frame in frames:\n",
    "    i = i + 1\n",
    "    if i > 1:\n",
    "        if i % 3 == 1:\n",
    "            fixation_diff = float(df.event_start_timestamp[i-1]) - float(df.experiment_start_timestamp[i-1])\n",
    "            if fixation_diff > 0:\n",
    "                fixations.append(fixation_diff)          \n",
    "        elif i % 3 == 2:\n",
    "            stimulus_diff = float(df.event_start_timestamp[i-1]) - float(df.experiment_start_timestamp[i-1])\n",
    "            if stimulus_diff > 0:\n",
    "                stimuli.append(stimulus_diff)         \n",
    "        elif i % 3 == 0:\n",
    "            touch_diff = float(df.response_touch_timestamp[i-1]) - float(df.experiment_start_timestamp[i-2])\n",
    "            if touch_diff > 0:\n",
    "                touches.append(touch_diff)           \n",
    "\n",
    "plt.plot(range(len(fixations)), fixations, marker='s', linestyle='', color='k', label='Fixations')\n",
    "plt.plot(range(len(stimuli)), stimuli, marker='*', linestyle='', color='b', label='Stimuli')\n",
    "plt.plot(range(len(touches)), touches, marker='o', linestyle='', color='r', label='Touches')\n",
    "plt.title('Timing')\n",
    "plt.xlabel ('')\n",
    "plt.ylabel ('Time since start (ms)')\n",
    "plt.legend()\n",
    "plt.grid()\n",
    "plt.show()\n"
   ]
  },
  {
   "cell_type": "code",
   "execution_count": null,
   "id": "3ea34a4d",
   "metadata": {},
   "outputs": [],
   "source": []
  }
 ],
 "metadata": {
  "kernelspec": {
   "display_name": "Python 3",
   "language": "python",
   "name": "python3"
  },
  "language_info": {
   "codemirror_mode": {
    "name": "ipython",
    "version": 3
   },
   "file_extension": ".py",
   "mimetype": "text/x-python",
   "name": "python",
   "nbconvert_exporter": "python",
   "pygments_lexer": "ipython3",
   "version": "3.8.8"
  }
 },
 "nbformat": 4,
 "nbformat_minor": 5
}
