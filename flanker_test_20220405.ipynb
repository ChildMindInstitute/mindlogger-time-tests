{
 "cells": [
  {
   "cell_type": "markdown",
   "id": "b01c811b",
   "metadata": {},
   "source": [
    "# Flanker Task Plots"
   ]
  },
  {
   "cell_type": "markdown",
   "id": "4c7413c4",
   "metadata": {},
   "source": [
    "## Test 1"
   ]
  },
  {
   "cell_type": "code",
   "execution_count": 21,
   "id": "9b4e7260",
   "metadata": {},
   "outputs": [],
   "source": [
    "import pandas as pd\n",
    "import numpy as np\n",
    "from matplotlib import pyplot as plt\n",
    "plt.rcParams[\"figure.figsize\"] = [7.00, 3.50]\n",
    "plt.rcParams[\"figure.autolayout\"] = True\n",
    "columns = ['block_number','trial_number','trial_type','frame','event_type','experiment_start_timestamp',\n",
    "           'block_start_timestamp','trial_start_timestamp','event_start_timestamp',\n",
    "           'video_display_request_timestamp','response_touch_timestamp','trial_offset','event_offset',\n",
    "           'response_time','response','response_accuracy']\n",
    "base_dir = '/Users/arno/Software/mindlogger-time-tests/'\n",
    "csv_file = base_dir + 'input/flanker_test_20220405/624789f25197b9338bdb113c_test1.csv'\n",
    "df = pd.read_csv(csv_file, usecols=columns)\n",
    "\n",
    "# Convert movie and add frame numbers:\n",
    "# ffmpeg -i /Users/arno.klein/Downloads/flanker_test_20220405.MOV -vf \"drawtext=fontfile=Arial.ttf: text='%{frame_num}': fontsize=200: start_number=1: x=(w-tw)/2: y=h-(2*lh): fontcolor=black: fontsize=20: box=1: boxcolor=white: boxborderw=5\" -c:a copy /Users/arno/Downloads/flanker_test_frames.mp4"
   ]
  },
  {
   "cell_type": "code",
   "execution_count": 29,
   "id": "f44636b8",
   "metadata": {},
   "outputs": [],
   "source": [
    "frames = df.frame\n",
    "frame_times = np.array([x * 1000 / fps for x in frames])\n",
    "fps = 240.\n",
    "max_i = 34\n",
    "response_to_fixation = []\n",
    "fixation_to_stimulus = []\n",
    "i = 0\n",
    "for frame in frames:\n",
    "    i = i + 1\n",
    "    if i % 3 == 1 and i > 1:\n",
    "        response_to_fixation.append(frame - frames[i-2])\n",
    "    elif i % 3 == 2:\n",
    "        fixation_to_stimulus.append(frame - frames[i-2])\n",
    "        \n",
    "response_to_fixation = np.array([x * 1000 / fps for x in response_to_fixation])   \n",
    "fixation_to_stimulus = np.array([x * 1000 / fps for x in fixation_to_stimulus])  "
   ]
  },
  {
   "cell_type": "code",
   "execution_count": 30,
   "id": "cbea8562",
   "metadata": {},
   "outputs": [
    {
     "data": {
      "image/png": "[encoded data removed]",
      "text/plain": [
       "<Figure size 504x252 with 1 Axes>"
      ]
     },
     "metadata": {
      "needs_background": "light"
     },
     "output_type": "display_data"
    }
   ],
   "source": [
    "#print(\"Contents in csv file:\\n\", df)\n",
    "plt.plot(frame_times[0:max_i], response_to_fixation[0:max_i], label='response_to_fixation')\n",
    "plt.plot(frame_times[0:max_i], fixation_to_stimulus[0:max_i], label='fixation_to_stimulus')\n",
    "plt.title('Flanker timing')\n",
    "plt.xlabel ('Movie time (ms)')\n",
    "plt.ylabel ('Time')\n",
    "plt.legend()\n",
    "plt.grid()\n",
    "plt.show()"
   ]
  },
  {
   "cell_type": "code",
   "execution_count": null,
   "id": "44453aa2",
   "metadata": {},
   "outputs": [],
   "source": []
  }
 ],
 "metadata": {
  "kernelspec": {
   "display_name": "Python 3",
   "language": "python",
   "name": "python3"
  },
  "language_info": {
   "codemirror_mode": {
    "name": "ipython",
    "version": 3
   },
   "file_extension": ".py",
   "mimetype": "text/x-python",
   "name": "python",
   "nbconvert_exporter": "python",
   "pygments_lexer": "ipython3",
   "version": "3.8.8"
  }
 },
 "nbformat": 4,
 "nbformat_minor": 5
}
