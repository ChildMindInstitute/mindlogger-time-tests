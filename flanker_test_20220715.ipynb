{
 "cells": [
  {
   "cell_type": "markdown",
   "id": "b01c811b",
   "metadata": {},
   "source": [
    "# Flanker task timing test plots"
   ]
  },
  {
   "cell_type": "markdown",
   "id": "4c7413c4",
   "metadata": {},
   "source": [
    "## Load Test 1 data"
   ]
  },
  {
   "cell_type": "code",
   "execution_count": 27,
   "id": "9b4e7260",
   "metadata": {},
   "outputs": [],
   "source": [
    "import pandas as pd\n",
    "import numpy as np\n",
    "import os\n",
    "import urllib.request as urllibrequest #import urllib\n",
    "from matplotlib import pyplot as plt\n",
    "plt.rcParams[\"figure.figsize\"] = [7.00, 3.50]\n",
    "plt.rcParams[\"figure.autolayout\"] = True\n",
    "\n",
    "def download_google_sheet(filepath, docid):\n",
    "    \"\"\"\n",
    "    Download latest version of a Google Sheet\n",
    "    Parameters\n",
    "    ----------\n",
    "    filepath : string\n",
    "    docid : string\n",
    "    Returns\n",
    "    -------\n",
    "    filepath : string\n",
    "    \"\"\"\n",
    "    if not os.path.exists(os.path.abspath(os.path.dirname(filepath))):\n",
    "        os.makedirs(os.path.abspath(os.path.dirname(filepath)))\n",
    "    urllibrequest.urlretrieve(\"{1}{0}{2}\".format(\n",
    "        docid,\n",
    "        'https://docs.google.com/spreadsheets/d/',\n",
    "        '/export?format=csv'\n",
    "        ), filepath)\n",
    "    return filepath\n",
    "\n",
    "# MindLogger exported Flanker csv table with test data:\n",
    "# Google sheet format: Format -> Number -> Custom number format: 0.0000\n",
    "## block_number\ttrial_number\ttrial_type\tevent_type\tframe\texperiment_start_timestamp\tblock_start_timestamp\ttrial_start_timestamp\tevent_start_timestamp\tvideo_display_request_timestamp\tresponse_touch_timestamp\ttrial_offset\tevent_offset\tresponse_time\tresponse\tresponse_accuracy\n",
    "## 1.0000\t8.0000\t>>>>>\tFixation\t339.0000\t1657918589.9240\t1657918888.0330\t1657918895.0680\t1657918895.0680\t1657918895.0400\t.\t7.0360\t0.0000\t.\t.\t.\t\t\t\t\t\t\t\t\t\t\t\n",
    "base_dir = '/Users/arno/Software/mindlogger-time-tests/'\n",
    "google_sheet = '1nhoswgFJnv4I3YOskfErXW4XQFGiWMSL87UAjl3zQ4M' # 62d1d6cc154fa87efa129b85\n",
    "csv_file = base_dir + 'input/flanker_test_20220715/flanker_test1_excerpt.csv'\n",
    "columns = ['block_number','trial_number','trial_type','event_type','frame_touch','frame_remove','experiment_start_timestamp',\n",
    "           'block_start_timestamp','trial_start_timestamp','event_start_timestamp',\n",
    "           'video_display_request_timestamp','response_touch_timestamp','trial_offset','event_offset',\n",
    "           'response_time','response','response_accuracy']"
   ]
  },
  {
   "cell_type": "code",
   "execution_count": 35,
   "id": "4e2e1b33",
   "metadata": {},
   "outputs": [],
   "source": [
    "data_table = download_google_sheet(csv_file, google_sheet)\n",
    "\n",
    "df = pd.read_csv(csv_file, usecols=columns)\n",
    "pd.set_option('display.float_format', lambda x: '%.3f' % x)\n",
    "\n",
    "# Movie of the Flanker task test 1 block of trials:\n",
    "# Convert movie and add frame numbers:\n",
    "## ffmpeg -i /Users/arno.klein/Downloads/flanker-test-20220715.mp4 -vf \"drawtext=fontfile=Arial.ttf: text='%{frame_num}': fontsize=200: start_number=1: x=(w-tw)/2: y=h-(2*lh): fontcolor=black: fontsize=20: box=1: boxcolor=white: boxborderw=5\" -c:a copy /Users/arno/Downloads/flanker_test_20220715_frames.mp4\n",
    "fps = 240\n",
    "ms_per_frame = 1000/fps\n",
    "\n",
    "# Excel table with test data frame numbers:\n",
    "#frames = df.frame_touch\n",
    "frames = (df.frame_touch + df.frame_remove)/2\n",
    "frame_times = np.array([x * 1000 / fps for x in frames])\n",
    "imax = len(frames)"
   ]
  },
  {
   "cell_type": "markdown",
   "id": "3425c025",
   "metadata": {},
   "source": [
    "## Touch to fixation\n",
    "\n",
    "  - Define touch to fixation in the movie as the time between contact with the screen and first appearance of the fixation.\n",
    "  - Define touch to fixation in the data export as the time between recorded response_touch_timestamp and recorded event_start_timestamp representing the next fixation event. "
   ]
  },
  {
   "cell_type": "code",
   "execution_count": 36,
   "id": "cc1fe764",
   "metadata": {},
   "outputs": [
    {
     "data": {
      "image/png": "[encoded data removed]",
      "text/plain": [
       "<Figure size 504x252 with 1 Axes>"
      ]
     },
     "metadata": {
      "needs_background": "light"
     },
     "output_type": "display_data"
    },
    {
     "name": "stdout",
     "output_type": "stream",
     "text": [
      "Touch to fixation time:\n",
      "Movie mean (SD): 33.01 (5.41) +- 8.33 ms (2 frames)\n",
      "Data mean (SD): 36.00 (4.13) ms\n",
      "Error (movie - data) mean (SD): -2.99 (5.93)\n"
     ]
    }
   ],
   "source": [
    "touch_to_fixation_movie = pd.Series(np.zeros(len(frames)))\n",
    "fixation_to_stimulus_movie = pd.Series(np.zeros(len(frames)))\n",
    "i = 0\n",
    "for frame in frames:\n",
    "    i = i + 1\n",
    "    if i > 1:\n",
    "        if i % 3 == 1:\n",
    "            touch_to_fixation_movie[i-1] = (frame - frames[i-2]) * 1000 / fps\n",
    "        else:\n",
    "            touch_to_fixation_movie[i-1] = np.nan\n",
    "        if i % 3 == 2:\n",
    "            fixation_to_stimulus_movie[i-1] = (frame - frames[i-2]) * 1000 / fps\n",
    "        else:\n",
    "            fixation_to_stimulus_movie[i-1] = np.nan\n",
    "            \n",
    "touch_to_fixation = pd.Series(np.zeros(len(frames)))\n",
    "i = 0\n",
    "for frame in frames:\n",
    "    i = i + 1\n",
    "    if i > 1:\n",
    "        if i % 3 == 1:\n",
    "            touch_to_fixation[i-1] = 1000 * (float(df.event_start_timestamp[i-1]) - float(df.response_touch_timestamp[i-2]))\n",
    "        else:\n",
    "            touch_to_fixation[i-1] = np.nan\n",
    "\n",
    "touch_to_fixation_error = touch_to_fixation_movie - touch_to_fixation\n",
    "\n",
    "imin = 1\n",
    "\n",
    "plt.plot(frame_times[imin:imax], touch_to_fixation_movie[imin:imax], marker='s', linestyle='', color='k', label='Movie')\n",
    "plt.plot(frame_times[imin:imax], touch_to_fixation_error[imin:imax], marker='*', linestyle='', color='r', label='Error')\n",
    "plt.plot(frame_times[imin:imax], touch_to_fixation[imin:imax], marker='o', linestyle='', color='b', label='Data')\n",
    "plt.title('Touch to fixation timing')\n",
    "plt.xlabel ('Movie time (ms)')\n",
    "plt.ylabel ('Time difference (ms)')\n",
    "plt.legend()\n",
    "plt.grid()\n",
    "plt.show()\n",
    "\n",
    "print(\"Touch to fixation time:\")\n",
    "print(\"Movie mean (SD): {0:.2f} ({1:.2f}) +- {2:.2f} ms (2 frames)\".format(np.mean(touch_to_fixation_movie[imin:imax]),\n",
    "                                                                           np.std(touch_to_fixation_movie[imin:imax]),\n",
    "                                                                           2 * ms_per_frame))\n",
    "print(\"Data mean (SD): {0:.2f} ({1:.2f}) ms\".format(np.mean(touch_to_fixation[imin:imax]), \n",
    "                                                           np.std(touch_to_fixation[imin:imax])))\n",
    "print(\"Error (movie - data) mean (SD): {0:.2f} ({1:.2f})\".format(np.mean(touch_to_fixation_error[imin:imax]), \n",
    "                                                                   np.std(touch_to_fixation_error[imin:imax])))\n"
   ]
  },
  {
   "cell_type": "code",
   "execution_count": null,
   "id": "daaf1026",
   "metadata": {},
   "outputs": [],
   "source": []
  }
 ],
 "metadata": {
  "kernelspec": {
   "display_name": "Python 3",
   "language": "python",
   "name": "python3"
  },
  "language_info": {
   "codemirror_mode": {
    "name": "ipython",
    "version": 3
   },
   "file_extension": ".py",
   "mimetype": "text/x-python",
   "name": "python",
   "nbconvert_exporter": "python",
   "pygments_lexer": "ipython3",
   "version": "3.8.8"
  }
 },
 "nbformat": 4,
 "nbformat_minor": 5
}
